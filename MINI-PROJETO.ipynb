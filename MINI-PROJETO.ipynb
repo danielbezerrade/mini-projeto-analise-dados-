{
 "cells": [
  {
   "cell_type": "code",
   "execution_count": 1,
   "id": "ff04cb51-fb86-4c7f-8ac7-0718de2da281",
   "metadata": {},
   "outputs": [
    {
     "name": "stdout",
     "output_type": "stream",
     "text": [
      "Requirement already satisfied: openpyxl in c:\\users\\daniel bezerra\\appdata\\local\\programs\\python\\python313\\lib\\site-packages (3.1.5)\n",
      "Requirement already satisfied: et-xmlfile in c:\\users\\daniel bezerra\\appdata\\local\\programs\\python\\python313\\lib\\site-packages (from openpyxl) (2.0.0)\n"
     ]
    },
    {
     "name": "stderr",
     "output_type": "stream",
     "text": [
      "\n",
      "[notice] A new release of pip is available: 25.1.1 -> 25.2\n",
      "[notice] To update, run: python.exe -m pip install --upgrade pip\n"
     ]
    }
   ],
   "source": [
    "!pip install openpyxl"
   ]
  },
  {
   "cell_type": "code",
   "execution_count": 2,
   "id": "2700d45e-c8a1-469e-9784-03379266ca91",
   "metadata": {},
   "outputs": [],
   "source": [
    "import pandas as pd"
   ]
  },
  {
   "cell_type": "code",
   "execution_count": 3,
   "id": "7536f98e-d87f-4af1-ac9b-816ccdb54e75",
   "metadata": {},
   "outputs": [],
   "source": [
    "import matplotlib.pyplot as plt"
   ]
  },
  {
   "cell_type": "code",
   "execution_count": 4,
   "id": "91f9aca2-d97e-4e7d-bcbc-c1b8cb11a9b8",
   "metadata": {},
   "outputs": [],
   "source": [
    "dados = pd.read_excel(\"base_dados_treinamento.xlsx\")"
   ]
  },
  {
   "cell_type": "code",
   "execution_count": 5,
   "id": "f9337ffc-2434-4373-a7f9-20265c072b9f",
   "metadata": {},
   "outputs": [
    {
     "data": {
      "text/html": [
       "<div>\n",
       "<style scoped>\n",
       "    .dataframe tbody tr th:only-of-type {\n",
       "        vertical-align: middle;\n",
       "    }\n",
       "\n",
       "    .dataframe tbody tr th {\n",
       "        vertical-align: top;\n",
       "    }\n",
       "\n",
       "    .dataframe thead th {\n",
       "        text-align: right;\n",
       "    }\n",
       "</style>\n",
       "<table border=\"1\" class=\"dataframe\">\n",
       "  <thead>\n",
       "    <tr style=\"text-align: right;\">\n",
       "      <th></th>\n",
       "      <th>Nome</th>\n",
       "      <th>Idade</th>\n",
       "      <th>Cidade</th>\n",
       "      <th>Salário</th>\n",
       "      <th>Área</th>\n",
       "      <th>Anos_de_Empresa</th>\n",
       "    </tr>\n",
       "  </thead>\n",
       "  <tbody>\n",
       "    <tr>\n",
       "      <th>0</th>\n",
       "      <td>Ana</td>\n",
       "      <td>25.0</td>\n",
       "      <td>São Paulo</td>\n",
       "      <td>3500.0</td>\n",
       "      <td>Financeiro</td>\n",
       "      <td>2.0</td>\n",
       "    </tr>\n",
       "    <tr>\n",
       "      <th>1</th>\n",
       "      <td>Bruno</td>\n",
       "      <td>30.0</td>\n",
       "      <td>Rio de Janeiro</td>\n",
       "      <td>4200.0</td>\n",
       "      <td>TI</td>\n",
       "      <td>5.0</td>\n",
       "    </tr>\n",
       "    <tr>\n",
       "      <th>2</th>\n",
       "      <td>Carlos</td>\n",
       "      <td>28.0</td>\n",
       "      <td>Belo Horizonte</td>\n",
       "      <td>NaN</td>\n",
       "      <td>RH</td>\n",
       "      <td>3.0</td>\n",
       "    </tr>\n",
       "    <tr>\n",
       "      <th>3</th>\n",
       "      <td>Daniela</td>\n",
       "      <td>NaN</td>\n",
       "      <td>Curitiba</td>\n",
       "      <td>5000.0</td>\n",
       "      <td>Marketing</td>\n",
       "      <td>NaN</td>\n",
       "    </tr>\n",
       "    <tr>\n",
       "      <th>4</th>\n",
       "      <td>Eduardo</td>\n",
       "      <td>40.0</td>\n",
       "      <td>NaN</td>\n",
       "      <td>6000.0</td>\n",
       "      <td>TI</td>\n",
       "      <td>8.0</td>\n",
       "    </tr>\n",
       "  </tbody>\n",
       "</table>\n",
       "</div>"
      ],
      "text/plain": [
       "      Nome  Idade          Cidade  Salário        Área  Anos_de_Empresa\n",
       "0      Ana   25.0       São Paulo   3500.0  Financeiro              2.0\n",
       "1    Bruno   30.0  Rio de Janeiro   4200.0          TI              5.0\n",
       "2   Carlos   28.0  Belo Horizonte      NaN          RH              3.0\n",
       "3  Daniela    NaN        Curitiba   5000.0   Marketing              NaN\n",
       "4  Eduardo   40.0             NaN   6000.0          TI              8.0"
      ]
     },
     "execution_count": 5,
     "metadata": {},
     "output_type": "execute_result"
    }
   ],
   "source": [
    "dados.head()"
   ]
  },
  {
   "cell_type": "markdown",
   "id": "0ae151cb-2152-41cb-b6b6-e9a37fdf836f",
   "metadata": {},
   "source": [
    "## **1.** **Limpeza de Dados**\n",
    "\n",
    "Quantos valores nulos existem em cada coluna?\n",
    "\n",
    "Preencha os valores nulos da coluna “Salário” com a média dos salários existentes.\n",
    "\n",
    "Preencha os valores nulos da coluna “Cidade” com “Não informado”.\n",
    "\n",
    "Remova todas as linhas em que o campo “Nome” está vazio.\n",
    "\n",
    "Crie uma nova tabela apenas com os funcionários que têm todas as informações completas (sem nulos)."
   ]
  },
  {
   "cell_type": "code",
   "execution_count": 6,
   "id": "c2710bc6-1618-40c8-bffd-29a6059ad446",
   "metadata": {},
   "outputs": [
    {
     "data": {
      "text/plain": [
       "Nome               1\n",
       "Idade              2\n",
       "Cidade             2\n",
       "Salário            3\n",
       "Área               1\n",
       "Anos_de_Empresa    2\n",
       "dtype: int64"
      ]
     },
     "execution_count": 6,
     "metadata": {},
     "output_type": "execute_result"
    }
   ],
   "source": [
    "#verificando dados nulos\n",
    "dados.isnull().sum()"
   ]
  },
  {
   "cell_type": "code",
   "execution_count": 7,
   "id": "399a2c28-c9ed-41d0-b086-7de8f63887ff",
   "metadata": {},
   "outputs": [],
   "source": [
    "#preenchendo os valores nulos da coluna \"Salário\"\n",
    "salario_medio = dados[\"Salário\"].mean()\n",
    "dados[\"Salário\"] = dados[\"Salário\"].fillna(salario_medio)\n"
   ]
  },
  {
   "cell_type": "code",
   "execution_count": 8,
   "id": "cd94dd54-971a-4dba-ae78-a0d041ca6aee",
   "metadata": {},
   "outputs": [],
   "source": [
    "#preenchendo os valores  nulos da coluna cidade\n",
    "dados[\"Cidade\"] = dados[\"Cidade\"].fillna(\"Não informado\")\n",
    "dados[\"Cidade\"] = dados[\"Cidade\"].replace(\"Não informado\",\"Não Informado\")"
   ]
  },
  {
   "cell_type": "code",
   "execution_count": 9,
   "id": "c5284f87-c63e-4b8d-944f-26e2a3c1dbc3",
   "metadata": {},
   "outputs": [
    {
     "data": {
      "text/html": [
       "<div>\n",
       "<style scoped>\n",
       "    .dataframe tbody tr th:only-of-type {\n",
       "        vertical-align: middle;\n",
       "    }\n",
       "\n",
       "    .dataframe tbody tr th {\n",
       "        vertical-align: top;\n",
       "    }\n",
       "\n",
       "    .dataframe thead th {\n",
       "        text-align: right;\n",
       "    }\n",
       "</style>\n",
       "<table border=\"1\" class=\"dataframe\">\n",
       "  <thead>\n",
       "    <tr style=\"text-align: right;\">\n",
       "      <th></th>\n",
       "      <th>Nome</th>\n",
       "      <th>Idade</th>\n",
       "      <th>Cidade</th>\n",
       "      <th>Salário</th>\n",
       "      <th>Área</th>\n",
       "      <th>Anos_de_Empresa</th>\n",
       "    </tr>\n",
       "  </thead>\n",
       "  <tbody>\n",
       "    <tr>\n",
       "      <th>0</th>\n",
       "      <td>Ana</td>\n",
       "      <td>25.0</td>\n",
       "      <td>São Paulo</td>\n",
       "      <td>3500.0</td>\n",
       "      <td>Financeiro</td>\n",
       "      <td>2.0</td>\n",
       "    </tr>\n",
       "    <tr>\n",
       "      <th>1</th>\n",
       "      <td>Bruno</td>\n",
       "      <td>30.0</td>\n",
       "      <td>Rio de Janeiro</td>\n",
       "      <td>4200.0</td>\n",
       "      <td>TI</td>\n",
       "      <td>5.0</td>\n",
       "    </tr>\n",
       "    <tr>\n",
       "      <th>2</th>\n",
       "      <td>Carlos</td>\n",
       "      <td>28.0</td>\n",
       "      <td>Belo Horizonte</td>\n",
       "      <td>4100.0</td>\n",
       "      <td>RH</td>\n",
       "      <td>3.0</td>\n",
       "    </tr>\n",
       "    <tr>\n",
       "      <th>3</th>\n",
       "      <td>Daniela</td>\n",
       "      <td>NaN</td>\n",
       "      <td>Curitiba</td>\n",
       "      <td>5000.0</td>\n",
       "      <td>Marketing</td>\n",
       "      <td>NaN</td>\n",
       "    </tr>\n",
       "    <tr>\n",
       "      <th>4</th>\n",
       "      <td>Eduardo</td>\n",
       "      <td>40.0</td>\n",
       "      <td>Não Informado</td>\n",
       "      <td>6000.0</td>\n",
       "      <td>TI</td>\n",
       "      <td>8.0</td>\n",
       "    </tr>\n",
       "  </tbody>\n",
       "</table>\n",
       "</div>"
      ],
      "text/plain": [
       "      Nome  Idade          Cidade  Salário        Área  Anos_de_Empresa\n",
       "0      Ana   25.0       São Paulo   3500.0  Financeiro              2.0\n",
       "1    Bruno   30.0  Rio de Janeiro   4200.0          TI              5.0\n",
       "2   Carlos   28.0  Belo Horizonte   4100.0          RH              3.0\n",
       "3  Daniela    NaN        Curitiba   5000.0   Marketing              NaN\n",
       "4  Eduardo   40.0   Não Informado   6000.0          TI              8.0"
      ]
     },
     "execution_count": 9,
     "metadata": {},
     "output_type": "execute_result"
    }
   ],
   "source": [
    "#Visualizando o DataFrame \n",
    "dados.head()"
   ]
  },
  {
   "cell_type": "code",
   "execution_count": 10,
   "id": "40d32996-a83e-4839-88ec-c908d83a93bf",
   "metadata": {},
   "outputs": [],
   "source": [
    "#Remova todas as linhas em que o campo “Nome” está vazio\n",
    "dados.dropna(subset=\"Nome\",inplace=True)"
   ]
  },
  {
   "cell_type": "code",
   "execution_count": 11,
   "id": "5b635007-7c80-43e4-aebc-dafcaec93b81",
   "metadata": {},
   "outputs": [
    {
     "data": {
      "text/html": [
       "<div>\n",
       "<style scoped>\n",
       "    .dataframe tbody tr th:only-of-type {\n",
       "        vertical-align: middle;\n",
       "    }\n",
       "\n",
       "    .dataframe tbody tr th {\n",
       "        vertical-align: top;\n",
       "    }\n",
       "\n",
       "    .dataframe thead th {\n",
       "        text-align: right;\n",
       "    }\n",
       "</style>\n",
       "<table border=\"1\" class=\"dataframe\">\n",
       "  <thead>\n",
       "    <tr style=\"text-align: right;\">\n",
       "      <th></th>\n",
       "      <th>Nome</th>\n",
       "      <th>Idade</th>\n",
       "      <th>Cidade</th>\n",
       "      <th>Salário</th>\n",
       "      <th>Área</th>\n",
       "      <th>Anos_de_Empresa</th>\n",
       "    </tr>\n",
       "  </thead>\n",
       "  <tbody>\n",
       "    <tr>\n",
       "      <th>0</th>\n",
       "      <td>Ana</td>\n",
       "      <td>25.0</td>\n",
       "      <td>São Paulo</td>\n",
       "      <td>3500.0</td>\n",
       "      <td>Financeiro</td>\n",
       "      <td>2.0</td>\n",
       "    </tr>\n",
       "    <tr>\n",
       "      <th>1</th>\n",
       "      <td>Bruno</td>\n",
       "      <td>30.0</td>\n",
       "      <td>Rio de Janeiro</td>\n",
       "      <td>4200.0</td>\n",
       "      <td>TI</td>\n",
       "      <td>5.0</td>\n",
       "    </tr>\n",
       "    <tr>\n",
       "      <th>2</th>\n",
       "      <td>Carlos</td>\n",
       "      <td>28.0</td>\n",
       "      <td>Belo Horizonte</td>\n",
       "      <td>4100.0</td>\n",
       "      <td>RH</td>\n",
       "      <td>3.0</td>\n",
       "    </tr>\n",
       "    <tr>\n",
       "      <th>3</th>\n",
       "      <td>Daniela</td>\n",
       "      <td>NaN</td>\n",
       "      <td>Curitiba</td>\n",
       "      <td>5000.0</td>\n",
       "      <td>Marketing</td>\n",
       "      <td>NaN</td>\n",
       "    </tr>\n",
       "    <tr>\n",
       "      <th>4</th>\n",
       "      <td>Eduardo</td>\n",
       "      <td>40.0</td>\n",
       "      <td>Não Informado</td>\n",
       "      <td>6000.0</td>\n",
       "      <td>TI</td>\n",
       "      <td>8.0</td>\n",
       "    </tr>\n",
       "  </tbody>\n",
       "</table>\n",
       "</div>"
      ],
      "text/plain": [
       "      Nome  Idade          Cidade  Salário        Área  Anos_de_Empresa\n",
       "0      Ana   25.0       São Paulo   3500.0  Financeiro              2.0\n",
       "1    Bruno   30.0  Rio de Janeiro   4200.0          TI              5.0\n",
       "2   Carlos   28.0  Belo Horizonte   4100.0          RH              3.0\n",
       "3  Daniela    NaN        Curitiba   5000.0   Marketing              NaN\n",
       "4  Eduardo   40.0   Não Informado   6000.0          TI              8.0"
      ]
     },
     "execution_count": 11,
     "metadata": {},
     "output_type": "execute_result"
    }
   ],
   "source": [
    "dados.head()"
   ]
  },
  {
   "cell_type": "code",
   "execution_count": 12,
   "id": "526ac76c-a14f-4a78-a116-3a85f359fd0b",
   "metadata": {},
   "outputs": [],
   "source": [
    "#Criando uma nova tabela apenas com os funcionários que têm todas as informações completas (sem nulos)\n",
    "dados_atualizado = dados.dropna().copy()"
   ]
  },
  {
   "cell_type": "code",
   "execution_count": 13,
   "id": "c45c6c30-05df-441b-a9c8-4007d5685ae3",
   "metadata": {},
   "outputs": [
    {
     "data": {
      "text/html": [
       "<div>\n",
       "<style scoped>\n",
       "    .dataframe tbody tr th:only-of-type {\n",
       "        vertical-align: middle;\n",
       "    }\n",
       "\n",
       "    .dataframe tbody tr th {\n",
       "        vertical-align: top;\n",
       "    }\n",
       "\n",
       "    .dataframe thead th {\n",
       "        text-align: right;\n",
       "    }\n",
       "</style>\n",
       "<table border=\"1\" class=\"dataframe\">\n",
       "  <thead>\n",
       "    <tr style=\"text-align: right;\">\n",
       "      <th></th>\n",
       "      <th>Nome</th>\n",
       "      <th>Idade</th>\n",
       "      <th>Cidade</th>\n",
       "      <th>Salário</th>\n",
       "      <th>Área</th>\n",
       "      <th>Anos_de_Empresa</th>\n",
       "    </tr>\n",
       "  </thead>\n",
       "  <tbody>\n",
       "    <tr>\n",
       "      <th>0</th>\n",
       "      <td>Ana</td>\n",
       "      <td>25.0</td>\n",
       "      <td>São Paulo</td>\n",
       "      <td>3500.0</td>\n",
       "      <td>Financeiro</td>\n",
       "      <td>2.0</td>\n",
       "    </tr>\n",
       "    <tr>\n",
       "      <th>1</th>\n",
       "      <td>Bruno</td>\n",
       "      <td>30.0</td>\n",
       "      <td>Rio de Janeiro</td>\n",
       "      <td>4200.0</td>\n",
       "      <td>TI</td>\n",
       "      <td>5.0</td>\n",
       "    </tr>\n",
       "    <tr>\n",
       "      <th>2</th>\n",
       "      <td>Carlos</td>\n",
       "      <td>28.0</td>\n",
       "      <td>Belo Horizonte</td>\n",
       "      <td>4100.0</td>\n",
       "      <td>RH</td>\n",
       "      <td>3.0</td>\n",
       "    </tr>\n",
       "    <tr>\n",
       "      <th>4</th>\n",
       "      <td>Eduardo</td>\n",
       "      <td>40.0</td>\n",
       "      <td>Não Informado</td>\n",
       "      <td>6000.0</td>\n",
       "      <td>TI</td>\n",
       "      <td>8.0</td>\n",
       "    </tr>\n",
       "    <tr>\n",
       "      <th>9</th>\n",
       "      <td>João</td>\n",
       "      <td>33.0</td>\n",
       "      <td>Recife</td>\n",
       "      <td>4100.0</td>\n",
       "      <td>TI</td>\n",
       "      <td>2.0</td>\n",
       "    </tr>\n",
       "  </tbody>\n",
       "</table>\n",
       "</div>"
      ],
      "text/plain": [
       "      Nome  Idade          Cidade  Salário        Área  Anos_de_Empresa\n",
       "0      Ana   25.0       São Paulo   3500.0  Financeiro              2.0\n",
       "1    Bruno   30.0  Rio de Janeiro   4200.0          TI              5.0\n",
       "2   Carlos   28.0  Belo Horizonte   4100.0          RH              3.0\n",
       "4  Eduardo   40.0   Não Informado   6000.0          TI              8.0\n",
       "9     João   33.0          Recife   4100.0          TI              2.0"
      ]
     },
     "execution_count": 13,
     "metadata": {},
     "output_type": "execute_result"
    }
   ],
   "source": [
    "#Visualizando o DataFrame\n",
    "dados_atualizado.head()\n"
   ]
  },
  {
   "cell_type": "code",
   "execution_count": 14,
   "id": "f0267a0d-d4ca-48b4-8be6-c6905b362e21",
   "metadata": {},
   "outputs": [
    {
     "data": {
      "text/html": [
       "<div>\n",
       "<style scoped>\n",
       "    .dataframe tbody tr th:only-of-type {\n",
       "        vertical-align: middle;\n",
       "    }\n",
       "\n",
       "    .dataframe tbody tr th {\n",
       "        vertical-align: top;\n",
       "    }\n",
       "\n",
       "    .dataframe thead th {\n",
       "        text-align: right;\n",
       "    }\n",
       "</style>\n",
       "<table border=\"1\" class=\"dataframe\">\n",
       "  <thead>\n",
       "    <tr style=\"text-align: right;\">\n",
       "      <th></th>\n",
       "      <th>Nome</th>\n",
       "      <th>Idade</th>\n",
       "      <th>Cidade</th>\n",
       "      <th>Salário</th>\n",
       "      <th>Área</th>\n",
       "      <th>Anos_de_Empresa</th>\n",
       "    </tr>\n",
       "  </thead>\n",
       "  <tbody>\n",
       "    <tr>\n",
       "      <th>0</th>\n",
       "      <td>Ana</td>\n",
       "      <td>25.0</td>\n",
       "      <td>São Paulo</td>\n",
       "      <td>3500.0</td>\n",
       "      <td>Financeiro</td>\n",
       "      <td>2.0</td>\n",
       "    </tr>\n",
       "    <tr>\n",
       "      <th>1</th>\n",
       "      <td>Bruno</td>\n",
       "      <td>30.0</td>\n",
       "      <td>Rio de Janeiro</td>\n",
       "      <td>4200.0</td>\n",
       "      <td>TI</td>\n",
       "      <td>5.0</td>\n",
       "    </tr>\n",
       "    <tr>\n",
       "      <th>2</th>\n",
       "      <td>Carlos</td>\n",
       "      <td>28.0</td>\n",
       "      <td>Belo Horizonte</td>\n",
       "      <td>4100.0</td>\n",
       "      <td>RH</td>\n",
       "      <td>3.0</td>\n",
       "    </tr>\n",
       "    <tr>\n",
       "      <th>3</th>\n",
       "      <td>Eduardo</td>\n",
       "      <td>40.0</td>\n",
       "      <td>Não Informado</td>\n",
       "      <td>6000.0</td>\n",
       "      <td>TI</td>\n",
       "      <td>8.0</td>\n",
       "    </tr>\n",
       "    <tr>\n",
       "      <th>4</th>\n",
       "      <td>João</td>\n",
       "      <td>33.0</td>\n",
       "      <td>Recife</td>\n",
       "      <td>4100.0</td>\n",
       "      <td>TI</td>\n",
       "      <td>2.0</td>\n",
       "    </tr>\n",
       "  </tbody>\n",
       "</table>\n",
       "</div>"
      ],
      "text/plain": [
       "      Nome  Idade          Cidade  Salário        Área  Anos_de_Empresa\n",
       "0      Ana   25.0       São Paulo   3500.0  Financeiro              2.0\n",
       "1    Bruno   30.0  Rio de Janeiro   4200.0          TI              5.0\n",
       "2   Carlos   28.0  Belo Horizonte   4100.0          RH              3.0\n",
       "3  Eduardo   40.0   Não Informado   6000.0          TI              8.0\n",
       "4     João   33.0          Recife   4100.0          TI              2.0"
      ]
     },
     "execution_count": 14,
     "metadata": {},
     "output_type": "execute_result"
    }
   ],
   "source": [
    "#Resetando o index\n",
    "dados_atualizado.reset_index(drop=True, inplace=True)\n",
    "dados_atualizado.head()"
   ]
  },
  {
   "cell_type": "markdown",
   "id": "031fb293-8230-429a-869c-95a8e327ea12",
   "metadata": {},
   "source": [
    "## **2.** **Análises Descritivas**\n",
    "\n",
    "Qual é a idade média dos funcionários?\n",
    "\n",
    "Qual é o maior e o menor salário?\n",
    "\n",
    "Quantos funcionários trabalham em cada Área?\n",
    "\n",
    "Qual é a média salarial por área?\n"
   ]
  },
  {
   "cell_type": "code",
   "execution_count": 15,
   "id": "a9da4f6e-a7c7-4e1a-b8bc-93fa0415cdfa",
   "metadata": {},
   "outputs": [
    {
     "name": "stdout",
     "output_type": "stream",
     "text": [
      "31\n"
     ]
    }
   ],
   "source": [
    "#Verificando a idade média dos funcionários\n",
    "media_idade = dados_atualizado[\"Idade\"].mean()\n",
    "print(int(media_idade))"
   ]
  },
  {
   "cell_type": "code",
   "execution_count": 16,
   "id": "dde644c4-2398-4c76-bbd1-a028ba7cabc9",
   "metadata": {},
   "outputs": [
    {
     "name": "stdout",
     "output_type": "stream",
     "text": [
      "O maior salário é de: R$6000.0\n"
     ]
    }
   ],
   "source": [
    "#Verificando o Maior Salário\n",
    "maior_salario = dados_atualizado[\"Salário\"].max()\n",
    "print(f\"O maior salário é de: R${maior_salario}\")"
   ]
  },
  {
   "cell_type": "code",
   "execution_count": 17,
   "id": "827cf7c6-e206-4cf0-90b8-e77b4fece608",
   "metadata": {},
   "outputs": [
    {
     "name": "stdout",
     "output_type": "stream",
     "text": [
      "O menor salário é de: R$3500.0\n"
     ]
    }
   ],
   "source": [
    "#Verificando o Menor salário \n",
    "menor_salario = dados_atualizado[\"Salário\"].min()\n",
    "print(f\"O menor salário é de: R${menor_salario}\")"
   ]
  },
  {
   "cell_type": "code",
   "execution_count": 18,
   "id": "ca429a26-21eb-422c-93d9-d815656baa3b",
   "metadata": {},
   "outputs": [
    {
     "data": {
      "text/html": [
       "<div>\n",
       "<style scoped>\n",
       "    .dataframe tbody tr th:only-of-type {\n",
       "        vertical-align: middle;\n",
       "    }\n",
       "\n",
       "    .dataframe tbody tr th {\n",
       "        vertical-align: top;\n",
       "    }\n",
       "\n",
       "    .dataframe thead th {\n",
       "        text-align: right;\n",
       "    }\n",
       "</style>\n",
       "<table border=\"1\" class=\"dataframe\">\n",
       "  <thead>\n",
       "    <tr style=\"text-align: right;\">\n",
       "      <th></th>\n",
       "      <th>Nome</th>\n",
       "    </tr>\n",
       "    <tr>\n",
       "      <th>Área</th>\n",
       "      <th></th>\n",
       "    </tr>\n",
       "  </thead>\n",
       "  <tbody>\n",
       "    <tr>\n",
       "      <th>Financeiro</th>\n",
       "      <td>1</td>\n",
       "    </tr>\n",
       "    <tr>\n",
       "      <th>RH</th>\n",
       "      <td>1</td>\n",
       "    </tr>\n",
       "    <tr>\n",
       "      <th>TI</th>\n",
       "      <td>3</td>\n",
       "    </tr>\n",
       "  </tbody>\n",
       "</table>\n",
       "</div>"
      ],
      "text/plain": [
       "            Nome\n",
       "Área            \n",
       "Financeiro     1\n",
       "RH             1\n",
       "TI             3"
      ]
     },
     "execution_count": 18,
     "metadata": {},
     "output_type": "execute_result"
    }
   ],
   "source": [
    "# Quantidade de funcionário por área\n",
    "quantidade_funcionario_area = dados_atualizado.groupby(\"Área\")[[\"Nome\"]].count()\n",
    "quantidade_funcionario_area"
   ]
  },
  {
   "cell_type": "code",
   "execution_count": 19,
   "id": "c23831c4-5d73-46ba-8268-eeb332b1ef71",
   "metadata": {},
   "outputs": [
    {
     "name": "stdout",
     "output_type": "stream",
     "text": [
      "            Salário\n",
      "Área               \n",
      "Financeiro   3500.0\n",
      "RH           4100.0\n",
      "TI           4767.0\n"
     ]
    }
   ],
   "source": [
    "# Verificando a média salarial por área\n",
    "media_salarial_area = dados_atualizado.groupby(\"Área\")[[\"Salário\"]].mean().round()\n",
    "print(media_salarial_area)"
   ]
  },
  {
   "cell_type": "markdown",
   "id": "826337e0-054c-4caa-bbe1-d587ebfc07d9",
   "metadata": {},
   "source": [
    "## **3.** **Criação de Colunas**\n",
    "\n",
    "Crie uma nova coluna chamada “Faixa Salarial”, com as categorias:\n",
    "\n",
    "“Baixo” → até R$3.000\n",
    "\n",
    "“Médio” → entre R$ 3.001 e R$ 5.000\n",
    "\n",
    "“Alto” → acima de R$5.000\n",
    "\n",
    "Crie uma coluna chamada “Tempo de Casa”:\n",
    "\n",
    "“Novo” → até 2 anos\n",
    "\n",
    "“Intermediário” → de 3 a 5 anos\n",
    "\n",
    "“Antigo” → acima de 5 anos\n",
    "\n",
    "Calcule o salário anual (Salário × 12)."
   ]
  },
  {
   "cell_type": "code",
   "execution_count": 20,
   "id": "358d00f2-8c54-47ca-bd61-7bed1e56ac8f",
   "metadata": {},
   "outputs": [],
   "source": [
    "dados_atualizado[\"Faixa Salarial\"] =[\n",
    "    \"Baixo\" if salario < 3.000 else\n",
    "    \"Médio\" if salario <=5000 else\n",
    "    \"Alto\"\n",
    "    for salario in dados_atualizado[\"Salário\"]]"
   ]
  },
  {
   "cell_type": "code",
   "execution_count": 21,
   "id": "e6d6226a-3c2d-4843-b507-4b5c7a82ae6e",
   "metadata": {},
   "outputs": [
    {
     "data": {
      "text/html": [
       "<div>\n",
       "<style scoped>\n",
       "    .dataframe tbody tr th:only-of-type {\n",
       "        vertical-align: middle;\n",
       "    }\n",
       "\n",
       "    .dataframe tbody tr th {\n",
       "        vertical-align: top;\n",
       "    }\n",
       "\n",
       "    .dataframe thead th {\n",
       "        text-align: right;\n",
       "    }\n",
       "</style>\n",
       "<table border=\"1\" class=\"dataframe\">\n",
       "  <thead>\n",
       "    <tr style=\"text-align: right;\">\n",
       "      <th></th>\n",
       "      <th>Nome</th>\n",
       "      <th>Idade</th>\n",
       "      <th>Cidade</th>\n",
       "      <th>Salário</th>\n",
       "      <th>Área</th>\n",
       "      <th>Anos_de_Empresa</th>\n",
       "      <th>Faixa Salarial</th>\n",
       "    </tr>\n",
       "  </thead>\n",
       "  <tbody>\n",
       "    <tr>\n",
       "      <th>0</th>\n",
       "      <td>Ana</td>\n",
       "      <td>25.0</td>\n",
       "      <td>São Paulo</td>\n",
       "      <td>3500.0</td>\n",
       "      <td>Financeiro</td>\n",
       "      <td>2.0</td>\n",
       "      <td>Médio</td>\n",
       "    </tr>\n",
       "    <tr>\n",
       "      <th>1</th>\n",
       "      <td>Bruno</td>\n",
       "      <td>30.0</td>\n",
       "      <td>Rio de Janeiro</td>\n",
       "      <td>4200.0</td>\n",
       "      <td>TI</td>\n",
       "      <td>5.0</td>\n",
       "      <td>Médio</td>\n",
       "    </tr>\n",
       "    <tr>\n",
       "      <th>2</th>\n",
       "      <td>Carlos</td>\n",
       "      <td>28.0</td>\n",
       "      <td>Belo Horizonte</td>\n",
       "      <td>4100.0</td>\n",
       "      <td>RH</td>\n",
       "      <td>3.0</td>\n",
       "      <td>Médio</td>\n",
       "    </tr>\n",
       "    <tr>\n",
       "      <th>3</th>\n",
       "      <td>Eduardo</td>\n",
       "      <td>40.0</td>\n",
       "      <td>Não Informado</td>\n",
       "      <td>6000.0</td>\n",
       "      <td>TI</td>\n",
       "      <td>8.0</td>\n",
       "      <td>Alto</td>\n",
       "    </tr>\n",
       "    <tr>\n",
       "      <th>4</th>\n",
       "      <td>João</td>\n",
       "      <td>33.0</td>\n",
       "      <td>Recife</td>\n",
       "      <td>4100.0</td>\n",
       "      <td>TI</td>\n",
       "      <td>2.0</td>\n",
       "      <td>Médio</td>\n",
       "    </tr>\n",
       "  </tbody>\n",
       "</table>\n",
       "</div>"
      ],
      "text/plain": [
       "      Nome  Idade          Cidade  Salário        Área  Anos_de_Empresa  \\\n",
       "0      Ana   25.0       São Paulo   3500.0  Financeiro              2.0   \n",
       "1    Bruno   30.0  Rio de Janeiro   4200.0          TI              5.0   \n",
       "2   Carlos   28.0  Belo Horizonte   4100.0          RH              3.0   \n",
       "3  Eduardo   40.0   Não Informado   6000.0          TI              8.0   \n",
       "4     João   33.0          Recife   4100.0          TI              2.0   \n",
       "\n",
       "  Faixa Salarial  \n",
       "0          Médio  \n",
       "1          Médio  \n",
       "2          Médio  \n",
       "3           Alto  \n",
       "4          Médio  "
      ]
     },
     "execution_count": 21,
     "metadata": {},
     "output_type": "execute_result"
    }
   ],
   "source": [
    "dados_atualizado.head()"
   ]
  },
  {
   "cell_type": "code",
   "execution_count": 22,
   "id": "7c8312bf-0781-4078-a977-10f8bf5b5a62",
   "metadata": {},
   "outputs": [],
   "source": [
    "dados_atualizado[\"Tempo de casa\"] = [\n",
    "    \"Novo\" if anos <= 2 else\n",
    "    \"Intermediário\" if anos <= 5 else\n",
    "    \"Antigo\"\n",
    "    for anos in dados_atualizado[\"Anos_de_Empresa\"]\n",
    "]"
   ]
  },
  {
   "cell_type": "code",
   "execution_count": 23,
   "id": "0e5e7a05-fb3d-4fe3-9c79-bb8343fd4654",
   "metadata": {},
   "outputs": [
    {
     "data": {
      "text/html": [
       "<div>\n",
       "<style scoped>\n",
       "    .dataframe tbody tr th:only-of-type {\n",
       "        vertical-align: middle;\n",
       "    }\n",
       "\n",
       "    .dataframe tbody tr th {\n",
       "        vertical-align: top;\n",
       "    }\n",
       "\n",
       "    .dataframe thead th {\n",
       "        text-align: right;\n",
       "    }\n",
       "</style>\n",
       "<table border=\"1\" class=\"dataframe\">\n",
       "  <thead>\n",
       "    <tr style=\"text-align: right;\">\n",
       "      <th></th>\n",
       "      <th>Nome</th>\n",
       "      <th>Idade</th>\n",
       "      <th>Cidade</th>\n",
       "      <th>Salário</th>\n",
       "      <th>Área</th>\n",
       "      <th>Anos_de_Empresa</th>\n",
       "      <th>Faixa Salarial</th>\n",
       "      <th>Tempo de casa</th>\n",
       "    </tr>\n",
       "  </thead>\n",
       "  <tbody>\n",
       "    <tr>\n",
       "      <th>0</th>\n",
       "      <td>Ana</td>\n",
       "      <td>25.0</td>\n",
       "      <td>São Paulo</td>\n",
       "      <td>3500.0</td>\n",
       "      <td>Financeiro</td>\n",
       "      <td>2.0</td>\n",
       "      <td>Médio</td>\n",
       "      <td>Novo</td>\n",
       "    </tr>\n",
       "    <tr>\n",
       "      <th>1</th>\n",
       "      <td>Bruno</td>\n",
       "      <td>30.0</td>\n",
       "      <td>Rio de Janeiro</td>\n",
       "      <td>4200.0</td>\n",
       "      <td>TI</td>\n",
       "      <td>5.0</td>\n",
       "      <td>Médio</td>\n",
       "      <td>Intermediário</td>\n",
       "    </tr>\n",
       "    <tr>\n",
       "      <th>2</th>\n",
       "      <td>Carlos</td>\n",
       "      <td>28.0</td>\n",
       "      <td>Belo Horizonte</td>\n",
       "      <td>4100.0</td>\n",
       "      <td>RH</td>\n",
       "      <td>3.0</td>\n",
       "      <td>Médio</td>\n",
       "      <td>Intermediário</td>\n",
       "    </tr>\n",
       "    <tr>\n",
       "      <th>3</th>\n",
       "      <td>Eduardo</td>\n",
       "      <td>40.0</td>\n",
       "      <td>Não Informado</td>\n",
       "      <td>6000.0</td>\n",
       "      <td>TI</td>\n",
       "      <td>8.0</td>\n",
       "      <td>Alto</td>\n",
       "      <td>Antigo</td>\n",
       "    </tr>\n",
       "    <tr>\n",
       "      <th>4</th>\n",
       "      <td>João</td>\n",
       "      <td>33.0</td>\n",
       "      <td>Recife</td>\n",
       "      <td>4100.0</td>\n",
       "      <td>TI</td>\n",
       "      <td>2.0</td>\n",
       "      <td>Médio</td>\n",
       "      <td>Novo</td>\n",
       "    </tr>\n",
       "  </tbody>\n",
       "</table>\n",
       "</div>"
      ],
      "text/plain": [
       "      Nome  Idade          Cidade  Salário        Área  Anos_de_Empresa  \\\n",
       "0      Ana   25.0       São Paulo   3500.0  Financeiro              2.0   \n",
       "1    Bruno   30.0  Rio de Janeiro   4200.0          TI              5.0   \n",
       "2   Carlos   28.0  Belo Horizonte   4100.0          RH              3.0   \n",
       "3  Eduardo   40.0   Não Informado   6000.0          TI              8.0   \n",
       "4     João   33.0          Recife   4100.0          TI              2.0   \n",
       "\n",
       "  Faixa Salarial  Tempo de casa  \n",
       "0          Médio           Novo  \n",
       "1          Médio  Intermediário  \n",
       "2          Médio  Intermediário  \n",
       "3           Alto         Antigo  \n",
       "4          Médio           Novo  "
      ]
     },
     "execution_count": 23,
     "metadata": {},
     "output_type": "execute_result"
    }
   ],
   "source": [
    "dados_atualizado.head()"
   ]
  },
  {
   "cell_type": "markdown",
   "id": "2491cd2e-f6a3-4731-a8ef-1a3e3e0f6758",
   "metadata": {},
   "source": [
    "## **4.** **Criação de Gráficos**\n",
    "\n",
    "Faça um gráfico de barras mostrando o número de funcionários por área.\n",
    "\n",
    "Faça um gráfico de dispersão relacionando Idade × Salário.\n"
   ]
  },
  {
   "cell_type": "code",
   "execution_count": 24,
   "id": "30f468bb-2348-471c-8906-4633433d3ad2",
   "metadata": {},
   "outputs": [
    {
     "data": {
      "image/png": "[encoded data removed]",
      "text/plain": [
       "<Figure size 800x400 with 1 Axes>"
      ]
     },
     "metadata": {},
     "output_type": "display_data"
    }
   ],
   "source": [
    "# Contando a quantidade de funcionários por área\n",
    "quantidade_funcionario_area = dados_atualizado[\"Área\"].value_counts()\n",
    "\n",
    "quantidade_funcionario_area = quantidade_funcionario_area.astype(int)\n",
    "\n",
    "# Criando o gráfico de barras\n",
    "plt.figure(figsize=(8,4))\n",
    "plt.bar(quantidade_funcionario_area.index, quantidade_funcionario_area.values, color=\"skyblue\")\n",
    "plt.title(\"Número de funcionários por área\")\n",
    "plt.xlabel(\"Área\", fontsize=12)\n",
    "plt.ylabel(\"Quantidade de funcionários\",fontsize=12)\n",
    "\n",
    "# Adicionando os valores no topo de cada barra\n",
    "for i, v in enumerate(quantidade_funcionario_area.values):\n",
    "    plt.text(i, v + 0.1, str(v), ha='center', va='bottom')\n",
    "\n",
    "plt.savefig(\"grafico_idade_salario.png\", dpi=300, bbox_inches='tight')\n",
    "    \n",
    "\n",
    "plt.show()"
   ]
  },
  {
   "cell_type": "code",
   "execution_count": 25,
   "id": "31bf3cb7-62df-4735-94d0-4f977ef71687",
   "metadata": {},
   "outputs": [
    {
     "data": {
      "image/png": "[encoded data removed]",
      "text/plain": [
       "<Figure size 800x400 with 1 Axes>"
      ]
     },
     "metadata": {},
     "output_type": "display_data"
    }
   ],
   "source": [
    "#criando um gráfico de dispersão relacionando Idade e Salário\n",
    "\n",
    "plt.figure(figsize=(8,4))\n",
    "plt.scatter(dados_atualizado[\"Idade\"],dados_atualizado[\"Salário\"], color= \"blue\")\n",
    "plt.title(\"Gráfico de dispersão\\nSalário x Idade\",fontsize=12)\n",
    "plt.xlabel(\"Idade\",fontsize=10)\n",
    "plt.ylabel(\"Salário\",fontsize=10)\n",
    "plt.grid()\n",
    "plt.savefig(\"grafico_idade_salario.png\", dpi=300, bbox_inches='tight')\n",
    "plt.show()\n"
   ]
  },
  {
   "cell_type": "code",
   "execution_count": 26,
   "id": "a78f8b33-6e78-4215-bcb1-c27b0bd9ed22",
   "metadata": {},
   "outputs": [],
   "source": [
    "#salvado o nosso dataframe atualizado\n",
    "dados_atualizado.to_excel(\"dados_atualizados.xlsx\",index=False)"
   ]
  },
  {
   "cell_type": "markdown",
   "id": "1bd83291-4631-4b28-8b5c-952417a059e6",
   "metadata": {},
   "source": [
    "## **5.** **Filtros e Consultas**\n",
    "\n",
    "Filtre apenas os funcionários da área de TI.\n",
    "\n",
    "Liste apenas os funcionários com salário acima da média geral.\n",
    "\n",
    "Filtre os funcionários que têm mais de 3 anos de empresa e salário superior a R$4.000.\n"
   ]
  },
  {
   "cell_type": "code",
   "execution_count": 29,
   "id": "78233bd5-657e-4e05-b54f-c193e369758a",
   "metadata": {},
   "outputs": [
    {
     "data": {
      "text/html": [
       "<div>\n",
       "<style scoped>\n",
       "    .dataframe tbody tr th:only-of-type {\n",
       "        vertical-align: middle;\n",
       "    }\n",
       "\n",
       "    .dataframe tbody tr th {\n",
       "        vertical-align: top;\n",
       "    }\n",
       "\n",
       "    .dataframe thead th {\n",
       "        text-align: right;\n",
       "    }\n",
       "</style>\n",
       "<table border=\"1\" class=\"dataframe\">\n",
       "  <thead>\n",
       "    <tr style=\"text-align: right;\">\n",
       "      <th></th>\n",
       "      <th>Nome</th>\n",
       "      <th>Área</th>\n",
       "    </tr>\n",
       "  </thead>\n",
       "  <tbody>\n",
       "    <tr>\n",
       "      <th>1</th>\n",
       "      <td>Bruno</td>\n",
       "      <td>TI</td>\n",
       "    </tr>\n",
       "    <tr>\n",
       "      <th>3</th>\n",
       "      <td>Eduardo</td>\n",
       "      <td>TI</td>\n",
       "    </tr>\n",
       "    <tr>\n",
       "      <th>4</th>\n",
       "      <td>João</td>\n",
       "      <td>TI</td>\n",
       "    </tr>\n",
       "  </tbody>\n",
       "</table>\n",
       "</div>"
      ],
      "text/plain": [
       "      Nome Área\n",
       "1    Bruno   TI\n",
       "3  Eduardo   TI\n",
       "4     João   TI"
      ]
     },
     "execution_count": 29,
     "metadata": {},
     "output_type": "execute_result"
    }
   ],
   "source": [
    "#Filtrando funcionários da área de TI\n",
    "Funcionarios_ti = dados_atualizado.loc[dados_atualizado[\"Área\"] == \"TI\",[\"Nome\",\"Área\"]]\n",
    "Funcionarios_ti\n"
   ]
  },
  {
   "cell_type": "code",
   "execution_count": 33,
   "id": "4baa905f-6963-4c5f-a9ee-30d6b5661de3",
   "metadata": {},
   "outputs": [
    {
     "data": {
      "text/html": [
       "<div>\n",
       "<style scoped>\n",
       "    .dataframe tbody tr th:only-of-type {\n",
       "        vertical-align: middle;\n",
       "    }\n",
       "\n",
       "    .dataframe tbody tr th {\n",
       "        vertical-align: top;\n",
       "    }\n",
       "\n",
       "    .dataframe thead th {\n",
       "        text-align: right;\n",
       "    }\n",
       "</style>\n",
       "<table border=\"1\" class=\"dataframe\">\n",
       "  <thead>\n",
       "    <tr style=\"text-align: right;\">\n",
       "      <th></th>\n",
       "      <th>Nome</th>\n",
       "      <th>Idade</th>\n",
       "      <th>Cidade</th>\n",
       "      <th>Salário</th>\n",
       "      <th>Área</th>\n",
       "      <th>Anos_de_Empresa</th>\n",
       "      <th>Faixa Salarial</th>\n",
       "      <th>Tempo de casa</th>\n",
       "    </tr>\n",
       "  </thead>\n",
       "  <tbody>\n",
       "    <tr>\n",
       "      <th>1</th>\n",
       "      <td>Bruno</td>\n",
       "      <td>30.0</td>\n",
       "      <td>Rio de Janeiro</td>\n",
       "      <td>4200.0</td>\n",
       "      <td>TI</td>\n",
       "      <td>5.0</td>\n",
       "      <td>Médio</td>\n",
       "      <td>Intermediário</td>\n",
       "    </tr>\n",
       "    <tr>\n",
       "      <th>3</th>\n",
       "      <td>Eduardo</td>\n",
       "      <td>40.0</td>\n",
       "      <td>Não Informado</td>\n",
       "      <td>6000.0</td>\n",
       "      <td>TI</td>\n",
       "      <td>8.0</td>\n",
       "      <td>Alto</td>\n",
       "      <td>Antigo</td>\n",
       "    </tr>\n",
       "  </tbody>\n",
       "</table>\n",
       "</div>"
      ],
      "text/plain": [
       "      Nome  Idade          Cidade  Salário Área  Anos_de_Empresa  \\\n",
       "1    Bruno   30.0  Rio de Janeiro   4200.0   TI              5.0   \n",
       "3  Eduardo   40.0   Não Informado   6000.0   TI              8.0   \n",
       "\n",
       "  Faixa Salarial  Tempo de casa  \n",
       "1          Médio  Intermediário  \n",
       "3           Alto         Antigo  "
      ]
     },
     "execution_count": 33,
     "metadata": {},
     "output_type": "execute_result"
    }
   ],
   "source": [
    "#listando os funcionários com o salário acima da média\n",
    "salário_maior_media = dados_atualizado.query(\"Salário>@salario_medio\")\n",
    "salário_maior_media"
   ]
  },
  {
   "cell_type": "code",
   "execution_count": 35,
   "id": "ce224651-45f4-4d54-ada1-767d5907cf6c",
   "metadata": {},
   "outputs": [
    {
     "data": {
      "text/html": [
       "<div>\n",
       "<style scoped>\n",
       "    .dataframe tbody tr th:only-of-type {\n",
       "        vertical-align: middle;\n",
       "    }\n",
       "\n",
       "    .dataframe tbody tr th {\n",
       "        vertical-align: top;\n",
       "    }\n",
       "\n",
       "    .dataframe thead th {\n",
       "        text-align: right;\n",
       "    }\n",
       "</style>\n",
       "<table border=\"1\" class=\"dataframe\">\n",
       "  <thead>\n",
       "    <tr style=\"text-align: right;\">\n",
       "      <th></th>\n",
       "      <th>Nome</th>\n",
       "      <th>Idade</th>\n",
       "      <th>Cidade</th>\n",
       "      <th>Salário</th>\n",
       "      <th>Área</th>\n",
       "      <th>Anos_de_Empresa</th>\n",
       "      <th>Faixa Salarial</th>\n",
       "      <th>Tempo de casa</th>\n",
       "    </tr>\n",
       "  </thead>\n",
       "  <tbody>\n",
       "    <tr>\n",
       "      <th>1</th>\n",
       "      <td>Bruno</td>\n",
       "      <td>30.0</td>\n",
       "      <td>Rio de Janeiro</td>\n",
       "      <td>4200.0</td>\n",
       "      <td>TI</td>\n",
       "      <td>5.0</td>\n",
       "      <td>Médio</td>\n",
       "      <td>Intermediário</td>\n",
       "    </tr>\n",
       "    <tr>\n",
       "      <th>3</th>\n",
       "      <td>Eduardo</td>\n",
       "      <td>40.0</td>\n",
       "      <td>Não Informado</td>\n",
       "      <td>6000.0</td>\n",
       "      <td>TI</td>\n",
       "      <td>8.0</td>\n",
       "      <td>Alto</td>\n",
       "      <td>Antigo</td>\n",
       "    </tr>\n",
       "  </tbody>\n",
       "</table>\n",
       "</div>"
      ],
      "text/plain": [
       "      Nome  Idade          Cidade  Salário Área  Anos_de_Empresa  \\\n",
       "1    Bruno   30.0  Rio de Janeiro   4200.0   TI              5.0   \n",
       "3  Eduardo   40.0   Não Informado   6000.0   TI              8.0   \n",
       "\n",
       "  Faixa Salarial  Tempo de casa  \n",
       "1          Médio  Intermediário  \n",
       "3           Alto         Antigo  "
      ]
     },
     "execution_count": 35,
     "metadata": {},
     "output_type": "execute_result"
    }
   ],
   "source": [
    "#listando funcionários que têm mais de 3 anos de empresa e salário superior a R$4.000.\n",
    "\n",
    "funcionarios_filtro2 = dados_atualizado.query(\"Anos_de_Empresa > 3 & Salário > 4.000\")\n",
    "funcionarios_filtro2"
   ]
  },
  {
   "cell_type": "code",
   "execution_count": null,
   "id": "5aee469d-12fa-4053-95ec-6457f3f8e329",
   "metadata": {},
   "outputs": [],
   "source": []
  },
  {
   "cell_type": "markdown",
   "id": "93e06798-e018-44f6-8470-1d4554a49fb5",
   "metadata": {},
   "source": [
    "### **Resumo Projeto**\n",
    "\n",
    "Neste mini-projeto, foi realizada uma análise exploratória de dados de funcionários, com foco em idade, salário, área de atuação e tempo de empresa. Foram aplicadas técnicas de limpeza de dados, remoção de valores nulos e criação de novas colunas para classificação salarial e de tempo de casa.\n",
    "\n",
    "Através dos gráficos e cálculos realizados, foi possível observar o comportamento das faixas salariais, identificar a média de idade dos colaboradores e compreender a distribuição de funcionários por área. O projeto demonstra habilidades em manipulação de dados com Pandas e visualização com Matplotlib, consolidando conhecimentos fundamentais para atuação como analista de dados júnior"
   ]
  },
  {
   "cell_type": "code",
   "execution_count": null,
   "id": "f31b6ad4-dc94-407a-9660-44ceb35c9a29",
   "metadata": {},
   "outputs": [],
   "source": []
  },
  {
   "cell_type": "code",
   "execution_count": null,
   "id": "fa95a978-c45f-441c-86f4-400d1be0c846",
   "metadata": {},
   "outputs": [],
   "source": []
  }
 ],
 "metadata": {
  "kernelspec": {
   "display_name": "Python 3 (ipykernel)",
   "language": "python",
   "name": "python3"
  },
  "language_info": {
   "codemirror_mode": {
    "name": "ipython",
    "version": 3
   },
   "file_extension": ".py",
   "mimetype": "text/x-python",
   "name": "python",
   "nbconvert_exporter": "python",
   "pygments_lexer": "ipython3",
   "version": "3.13.5"
  }
 },
 "nbformat": 4,
 "nbformat_minor": 5
}
